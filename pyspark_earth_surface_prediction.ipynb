{
 "cells": [
  {
   "cell_type": "code",
   "execution_count": 5,
   "id": "ca189372-d3fd-49ae-8b3d-18a5e987bec0",
   "metadata": {},
   "outputs": [],
   "source": [
    "import os\n",
    "os.environ['SPARK_HOME']= r\"C:\\Spark\\spark-3.4.3-bin-hadoop3\"\n",
    "os.environ['PYSPARK_DRIVER_PYTHON']= \"Jupyter\"\n",
    "os.environ['PYSPARK_DRIVER_PYTHON_OPTS']= \"notebook\"\n",
    "os.environ['PYSPARK_PYTHON']= \"python\""
   ]
  },
  {
   "cell_type": "code",
   "execution_count": 12,
   "id": "d39eae42-05e8-4a43-9f89-9f0781d2bb57",
   "metadata": {},
   "outputs": [],
   "source": [
    "#import PySpark\n",
    "from pyspark.sql import SparkSession\n",
    "from pyspark.sql.functions import year, month"
   ]
  },
  {
   "cell_type": "code",
   "execution_count": 7,
   "id": "3e593154-e239-44a0-a142-3e9788635db6",
   "metadata": {},
   "outputs": [],
   "source": [
    "#Create a SparkSession\n",
    "spark = SparkSession.builder \\\n",
    "    .appName(\"Global-Temperature\") \\\n",
    "    .getOrCreate()"
   ]
  },
  {
   "cell_type": "code",
   "execution_count": 11,
   "id": "71a24416-1704-4754-91be-194137e3e460",
   "metadata": {},
   "outputs": [],
   "source": [
    "# Load the dataset\n",
    "file_path = r\"C:\\Users\\ENGR WOLE\\GlobalLandTemperaturesByCity.csv\"\n",
    "df = spark.read.csv(file_path, header=True, inferSchema=True)"
   ]
  },
  {
   "cell_type": "code",
   "execution_count": 14,
   "id": "f39471d1-d804-4135-864a-06cd72b07e31",
   "metadata": {},
   "outputs": [],
   "source": [
    "# Drop rows with missing values\n",
    "df_clean = df.dropna()\n",
    "\n",
    "# Extract year and month from the date\n",
    "df_clean = df_clean.withColumn(\"Year\", year(df_clean[\"dt\"])) \\\n",
    "                   .withColumn(\"Month\", month(df_clean[\"dt\"]))\n",
    "# Group by year and calculate average temperature\n",
    "df_yearly_avg = df_clean.groupBy(\"Year\").agg({\"AverageTemperature\": \"avg\"})\n",
    "\n",
    "# Rename the column\n",
    "df_yearly_avg = df_yearly_avg.withColumnRenamed(\"avg(AverageTemperature)\", \"AvgTemperature\")"
   ]
  },
  {
   "cell_type": "code",
   "execution_count": 17,
   "id": "b71ffba9-637a-40af-a429-a2aa71d5d1a5",
   "metadata": {},
   "outputs": [],
   "source": [
    "from pyspark.ml.feature import VectorAssembler\n",
    "\n",
    "# Select features and label\n",
    "feature_columns = [\"Year\"]\n",
    "assembler = VectorAssembler(inputCols=feature_columns, outputCol=\"features\")\n",
    "data = assembler.transform(df_yearly_avg)\n",
    "\n",
    "# Prepare final dataset with features and label\n",
    "final_data = data.select(\"features\", \"AvgTemperature\")\n"
   ]
  },
  {
   "cell_type": "code",
   "execution_count": 18,
   "id": "8923f477-5fef-429c-95ed-6904d4d5f975",
   "metadata": {},
   "outputs": [],
   "source": [
    "from pyspark.ml.evaluation import RegressionEvaluator\n",
    "from pyspark.ml.tuning import TrainValidationSplit, ParamGridBuilder\n",
    "\n",
    "# Split the data into training and testing sets\n",
    "train_data, test_data = final_data.randomSplit([0.8, 0.2], seed=42)\n"
   ]
  },
  {
   "cell_type": "code",
   "execution_count": 30,
   "id": "678f3234-7e7d-4748-9235-9f7bb7430346",
   "metadata": {},
   "outputs": [
    {
     "name": "stdout",
     "output_type": "stream",
     "text": [
      "RMSE: 2.192565463495532\n",
      "MAE: 1.6671595702598943\n",
      "MSE: 4.8073433117133755\n",
      "R-squared (R²): 0.7098341994798378\n"
     ]
    }
   ],
   "source": [
    "from pyspark.ml.regression import LinearRegression, DecisionTreeRegressor, RandomForestRegressor\n",
    "from pyspark.ml.evaluation import RegressionEvaluator\n",
    "\n",
    "# Initialize and train the model\n",
    "lr = LinearRegression(labelCol=\"AvgTemperature\")\n",
    "lr_model = lr.fit(train_data)\n",
    "predictions = lr_model.transform(test_data)\n",
    "\n",
    "# Initialize evaluators for different metrics\n",
    "rmse_evaluator = RegressionEvaluator(labelCol=\"AvgTemperature\", predictionCol=\"prediction\", metricName=\"rmse\")\n",
    "mae_evaluator = RegressionEvaluator(labelCol=\"AvgTemperature\", predictionCol=\"prediction\", metricName=\"mae\")\n",
    "mse_evaluator = RegressionEvaluator(labelCol=\"AvgTemperature\", predictionCol=\"prediction\", metricName=\"mse\")\n",
    "r2_evaluator = RegressionEvaluator(labelCol=\"AvgTemperature\", predictionCol=\"prediction\", metricName=\"r2\")\n",
    "\n",
    "# Evaluate the model\n",
    "rmse = rmse_evaluator.evaluate(predictions)\n",
    "mae = mae_evaluator.evaluate(predictions)\n",
    "mse = mse_evaluator.evaluate(predictions)\n",
    "r2 = r2_evaluator.evaluate(predictions)\n",
    "\n",
    "# Print evaluation metrics\n",
    "print(f\"RMSE: {rmse}\")\n",
    "print(f\"MAE: {mae}\")\n",
    "print(f\"MSE: {mse}\")\n",
    "print(f\"R-squared (R²): {r2}\")\n"
   ]
  },
  {
   "cell_type": "code",
   "execution_count": 31,
   "id": "c2564950-c75b-440f-a087-785dc9880c72",
   "metadata": {},
   "outputs": [
    {
     "name": "stdout",
     "output_type": "stream",
     "text": [
      "Decision Tree Regressor - RMSE: 1.642263513023361, MAE: 0.8966262710284, MSE: 2.697029446207831, R-squared: 0.8372103555869354\n"
     ]
    }
   ],
   "source": [
    "# Train and evaluate Decision Tree Regressor model\n",
    "dt = DecisionTreeRegressor(labelCol=\"AvgTemperature\")\n",
    "dt_model = dt.fit(train_data)\n",
    "dt_predictions = dt_model.transform(test_data)\n",
    "\n",
    "# Evaluate Decision Tree Regressor model\n",
    "dt_rmse = RegressionEvaluator(labelCol=\"AvgTemperature\", predictionCol=\"prediction\", metricName=\"rmse\").evaluate(dt_predictions)\n",
    "dt_mae = RegressionEvaluator(labelCol=\"AvgTemperature\", predictionCol=\"prediction\", metricName=\"mae\").evaluate(dt_predictions)\n",
    "dt_mse = RegressionEvaluator(labelCol=\"AvgTemperature\", predictionCol=\"prediction\", metricName=\"mse\").evaluate(dt_predictions)\n",
    "dt_r2 = RegressionEvaluator(labelCol=\"AvgTemperature\", predictionCol=\"prediction\", metricName=\"r2\").evaluate(dt_predictions)\n",
    "\n",
    "print(f\"Decision Tree Regressor - RMSE: {dt_rmse}, MAE: {dt_mae}, MSE: {dt_mse}, R-squared: {dt_r2}\")\n"
   ]
  },
  {
   "cell_type": "code",
   "execution_count": 32,
   "id": "56e55496-0c7f-4cae-9139-2e8afcfef2a8",
   "metadata": {},
   "outputs": [
    {
     "name": "stdout",
     "output_type": "stream",
     "text": [
      "Random Forest Regressor - RMSE: 1.6512963997681422, MAE: 0.9011519160672329, MSE: 2.7267797998872285, R-squared: 0.8354146579153947\n"
     ]
    }
   ],
   "source": [
    "# Train and evaluate Random Forest Regressor model\n",
    "rf = RandomForestRegressor(labelCol=\"AvgTemperature\")\n",
    "rf_model = rf.fit(train_data)\n",
    "rf_predictions = rf_model.transform(test_data)\n",
    "\n",
    "# Evaluate Random Forest Regressor model\n",
    "rf_rmse = RegressionEvaluator(labelCol=\"AvgTemperature\", predictionCol=\"prediction\", metricName=\"rmse\").evaluate(rf_predictions)\n",
    "rf_mae = RegressionEvaluator(labelCol=\"AvgTemperature\", predictionCol=\"prediction\", metricName=\"mae\").evaluate(rf_predictions)\n",
    "rf_mse = RegressionEvaluator(labelCol=\"AvgTemperature\", predictionCol=\"prediction\", metricName=\"mse\").evaluate(rf_predictions)\n",
    "rf_r2 = RegressionEvaluator(labelCol=\"AvgTemperature\", predictionCol=\"prediction\", metricName=\"r2\").evaluate(rf_predictions)\n",
    "\n",
    "print(f\"Random Forest Regressor - RMSE: {rf_rmse}, MAE: {rf_mae}, MSE: {rf_mse}, R-squared: {rf_r2}\")\n"
   ]
  },
  {
   "cell_type": "code",
   "execution_count": null,
   "id": "676f219a-69bf-421b-8546-f0cffea44a96",
   "metadata": {},
   "outputs": [],
   "source": []
  },
  {
   "cell_type": "code",
   "execution_count": null,
   "id": "a5bfb994-598e-46a4-b1c7-73b0c72d5088",
   "metadata": {},
   "outputs": [],
   "source": []
  }
 ],
 "metadata": {
  "kernelspec": {
   "display_name": "Python 3 (ipykernel)",
   "language": "python",
   "name": "python3"
  },
  "language_info": {
   "codemirror_mode": {
    "name": "ipython",
    "version": 3
   },
   "file_extension": ".py",
   "mimetype": "text/x-python",
   "name": "python",
   "nbconvert_exporter": "python",
   "pygments_lexer": "ipython3",
   "version": "3.9.10"
  }
 },
 "nbformat": 4,
 "nbformat_minor": 5
}
